{
 "cells": [
  {
   "cell_type": "markdown",
   "metadata": {},
   "source": [
    "#### Importação e leitura dos dados"
   ]
  },
  {
   "cell_type": "code",
   "execution_count": 1,
   "metadata": {},
   "outputs": [],
   "source": [
    "import pandas as pd\n",
    "import numpy as np"
   ]
  },
  {
   "cell_type": "code",
   "execution_count": 2,
   "metadata": {},
   "outputs": [],
   "source": [
    "#df1 = pd.read_excel('C:/Users/user/Documents/housing_proj/apartment.xlsx')\n",
    "#df2 = pd.read_excel('C:/Users/user/Documents/housing_proj/apartment_2.xlsx')\n",
    "\n",
    "#df =  pd.concat([df1, df2], ignore_index = True)"
   ]
  },
  {
   "cell_type": "code",
   "execution_count": 3,
   "metadata": {},
   "outputs": [],
   "source": [
    "data = pd.read_csv('C:/Users/user/Documents/housing_proj/Dataset_imoveis.csv', sep=';')"
   ]
  },
  {
   "cell_type": "code",
   "execution_count": 4,
   "metadata": {},
   "outputs": [],
   "source": [
    "#df = df.drop('Unnamed: 0', axis = 1)\n",
    "df = data.drop('pagina', axis=1)"
   ]
  },
  {
   "cell_type": "code",
   "execution_count": 5,
   "metadata": {},
   "outputs": [],
   "source": [
    "df = df[df['extra'] != '0']"
   ]
  },
  {
   "cell_type": "code",
   "execution_count": 6,
   "metadata": {},
   "outputs": [
    {
     "data": {
      "text/plain": [
       "endereco    0\n",
       "valor       0\n",
       "detalhes    0\n",
       "extra       0\n",
       "dtype: int64"
      ]
     },
     "execution_count": 6,
     "metadata": {},
     "output_type": "execute_result"
    }
   ],
   "source": [
    "df.isnull().sum()"
   ]
  },
  {
   "cell_type": "markdown",
   "metadata": {},
   "source": [
    "#### Tratamento dos dados"
   ]
  },
  {
   "cell_type": "code",
   "execution_count": 7,
   "metadata": {},
   "outputs": [],
   "source": [
    "#df['preco'] = df['preco'].apply(lambda elemento: elemento.split()[1].replace('.', ''))\n",
    "#df['preco'] = pd.to_numeric(df['preco'])"
   ]
  },
  {
   "cell_type": "code",
   "execution_count": 8,
   "metadata": {},
   "outputs": [],
   "source": [
    "df['area'] = df['detalhes'].apply(lambda elemento: elemento.split()[0])\n",
    "df['quartos'] = df['detalhes'].apply(lambda elemento: elemento.split()[2])\n",
    "df['banheiros'] = df['detalhes'].apply(lambda elemento: elemento.split()[4])\n",
    "df['garagem'] = df['detalhes'].apply(lambda elemento: elemento.split()[6])"
   ]
  },
  {
   "cell_type": "code",
   "execution_count": 9,
   "metadata": {},
   "outputs": [
    {
     "data": {
      "text/html": [
       "<div>\n",
       "<style scoped>\n",
       "    .dataframe tbody tr th:only-of-type {\n",
       "        vertical-align: middle;\n",
       "    }\n",
       "\n",
       "    .dataframe tbody tr th {\n",
       "        vertical-align: top;\n",
       "    }\n",
       "\n",
       "    .dataframe thead th {\n",
       "        text-align: right;\n",
       "    }\n",
       "</style>\n",
       "<table border=\"1\" class=\"dataframe\">\n",
       "  <thead>\n",
       "    <tr style=\"text-align: right;\">\n",
       "      <th></th>\n",
       "      <th>endereco</th>\n",
       "      <th>valor</th>\n",
       "      <th>detalhes</th>\n",
       "      <th>extra</th>\n",
       "      <th>area</th>\n",
       "      <th>quartos</th>\n",
       "      <th>banheiros</th>\n",
       "      <th>garagem</th>\n",
       "    </tr>\n",
       "  </thead>\n",
       "  <tbody>\n",
       "    <tr>\n",
       "      <th>0</th>\n",
       "      <td>Rua Coelho Neto, 4 - Laranjeiras, Rio de Janei...</td>\n",
       "      <td>1100000.0</td>\n",
       "      <td>\\n\\n\\n                110\\n              \\n\\n ...</td>\n",
       "      <td>\\nPlayground\\nElevador\\nPortaria 24h\\nAr-condi...</td>\n",
       "      <td>110</td>\n",
       "      <td>2</td>\n",
       "      <td>4</td>\n",
       "      <td>2</td>\n",
       "    </tr>\n",
       "    <tr>\n",
       "      <th>2</th>\n",
       "      <td>Rua José Américo de Almeida, 688 - Recreio Dos...</td>\n",
       "      <td>1600000.0</td>\n",
       "      <td>\\n\\n\\n                173\\n              \\n\\n ...</td>\n",
       "      <td>\\nMobiliado\\nElevador\\nCondomínio fechado\\nAce...</td>\n",
       "      <td>173</td>\n",
       "      <td>3</td>\n",
       "      <td>5</td>\n",
       "      <td>6</td>\n",
       "    </tr>\n",
       "    <tr>\n",
       "      <th>3</th>\n",
       "      <td>Rua General Barbosa Lima, 34 - Copacabana, Rio...</td>\n",
       "      <td>1980000.0</td>\n",
       "      <td>\\n\\n\\n                112\\n              \\n\\n ...</td>\n",
       "      <td>\\nAceita animais\\nAr-condicionado\\nMobiliado\\n...</td>\n",
       "      <td>112</td>\n",
       "      <td>3</td>\n",
       "      <td>2</td>\n",
       "      <td>--</td>\n",
       "    </tr>\n",
       "  </tbody>\n",
       "</table>\n",
       "</div>"
      ],
      "text/plain": [
       "                                            endereco      valor  \\\n",
       "0  Rua Coelho Neto, 4 - Laranjeiras, Rio de Janei...  1100000.0   \n",
       "2  Rua José Américo de Almeida, 688 - Recreio Dos...  1600000.0   \n",
       "3  Rua General Barbosa Lima, 34 - Copacabana, Rio...  1980000.0   \n",
       "\n",
       "                                            detalhes  \\\n",
       "0  \\n\\n\\n                110\\n              \\n\\n ...   \n",
       "2  \\n\\n\\n                173\\n              \\n\\n ...   \n",
       "3  \\n\\n\\n                112\\n              \\n\\n ...   \n",
       "\n",
       "                                               extra area quartos banheiros  \\\n",
       "0  \\nPlayground\\nElevador\\nPortaria 24h\\nAr-condi...  110       2         4   \n",
       "2  \\nMobiliado\\nElevador\\nCondomínio fechado\\nAce...  173       3         5   \n",
       "3  \\nAceita animais\\nAr-condicionado\\nMobiliado\\n...  112       3         2   \n",
       "\n",
       "  garagem  \n",
       "0       2  \n",
       "2       6  \n",
       "3      --  "
      ]
     },
     "execution_count": 9,
     "metadata": {},
     "output_type": "execute_result"
    }
   ],
   "source": [
    "df.head(3)"
   ]
  },
  {
   "cell_type": "markdown",
   "metadata": {},
   "source": [
    "#### Tratando as novas colunas"
   ]
  },
  {
   "cell_type": "code",
   "execution_count": 10,
   "metadata": {},
   "outputs": [],
   "source": [
    "df['garagem'] = df['garagem'].apply(lambda x: '0' if x == '--' else x)"
   ]
  },
  {
   "cell_type": "code",
   "execution_count": 11,
   "metadata": {},
   "outputs": [],
   "source": [
    "df = df.drop(df[df['area'].apply(lambda x: '1' if '-' in x else '0') == '1'].index.to_list(), axis = 0)"
   ]
  },
  {
   "cell_type": "code",
   "execution_count": 12,
   "metadata": {},
   "outputs": [],
   "source": [
    "df = df.drop(df[df['banheiros'].apply(lambda x: '1' if '-' in x else '0') == '1'].index.to_list(), axis = 0)"
   ]
  },
  {
   "cell_type": "code",
   "execution_count": 13,
   "metadata": {},
   "outputs": [],
   "source": [
    "df = df.drop(df[df['garagem'].apply(lambda x: '1' if '-' in x else '0') == '1'].index.to_list(), axis = 0)"
   ]
  },
  {
   "cell_type": "markdown",
   "metadata": {},
   "source": [
    "#### Convertendo para numerico"
   ]
  },
  {
   "cell_type": "code",
   "execution_count": 14,
   "metadata": {},
   "outputs": [],
   "source": [
    "df['area'] = pd.to_numeric(df['area'])\n",
    "df['quartos'] = pd.to_numeric(df['quartos'])\n",
    "df['banheiros'] = pd.to_numeric(df['banheiros'])\n",
    "df['garagem'] = pd.to_numeric(df['garagem'])\n",
    "\n",
    "#df = df.drop('detalhes', axis=1)"
   ]
  },
  {
   "cell_type": "code",
   "execution_count": 15,
   "metadata": {},
   "outputs": [],
   "source": [
    "x = []\n",
    "for i in df['extra']:\n",
    "    x.append(i.lower())\n",
    "df['extra'] = x"
   ]
  },
  {
   "cell_type": "code",
   "execution_count": 16,
   "metadata": {},
   "outputs": [],
   "source": [
    "df['salao_de_festas'] = df['extra'].apply(lambda x: 1 if 'festas' in x else 0)\n",
    "df['aceita_animais'] = df['extra'].apply(lambda x: 1 if 'animais' in x else 0)\n",
    "df['ar_condicionado'] = df['extra'].apply(lambda x: 1 if 'condicionado' in x else 0)\n",
    "df['condominio_fechado'] = df['extra'].apply(lambda x: 1 if 'condomínio' in x else 0)\n",
    "df['churrasqueira'] = df['extra'].apply(lambda x: 1 if 'churrasqueira' in x else 0)\n",
    "df['academia'] = df['extra'].apply(lambda x: 1 if 'academia' in x else 0)\n",
    "df['portao_eletronico'] = df['extra'].apply(lambda x: 1 if 'eletrônico' in x else 0)\n",
    "df['piscina'] = df['extra'].apply(lambda x: 1 if 'piscina' in x else 0)\n",
    "\n",
    "df = df.drop(['extra', 'detalhes'], axis=1)"
   ]
  },
  {
   "cell_type": "markdown",
   "metadata": {},
   "source": [
    "### Análise exploratória"
   ]
  },
  {
   "cell_type": "code",
   "execution_count": 17,
   "metadata": {},
   "outputs": [],
   "source": [
    "import matplotlib.pyplot as plt\n",
    "import seaborn as sns"
   ]
  },
  {
   "cell_type": "code",
   "execution_count": 18,
   "metadata": {},
   "outputs": [
    {
     "data": {
      "image/png": "[encoded data removed]",
      "text/plain": [
       "<Figure size 432x288 with 1 Axes>"
      ]
     },
     "metadata": {
      "needs_background": "light"
     },
     "output_type": "display_data"
    }
   ],
   "source": [
    "sns.scatterplot(data=df, x='area', y='valor');"
   ]
  },
  {
   "cell_type": "code",
   "execution_count": 19,
   "metadata": {},
   "outputs": [],
   "source": [
    "df = df.drop(2077, axis = 0)"
   ]
  },
  {
   "cell_type": "code",
   "execution_count": 20,
   "metadata": {},
   "outputs": [
    {
     "data": {
      "image/png": "[encoded data removed]",
      "text/plain": [
       "<Figure size 432x288 with 1 Axes>"
      ]
     },
     "metadata": {
      "needs_background": "light"
     },
     "output_type": "display_data"
    }
   ],
   "source": [
    "sns.boxplot(data=df, x = 'valor');"
   ]
  },
  {
   "cell_type": "code",
   "execution_count": 21,
   "metadata": {},
   "outputs": [
    {
     "data": {
      "text/html": [
       "<div>\n",
       "<style scoped>\n",
       "    .dataframe tbody tr th:only-of-type {\n",
       "        vertical-align: middle;\n",
       "    }\n",
       "\n",
       "    .dataframe tbody tr th {\n",
       "        vertical-align: top;\n",
       "    }\n",
       "\n",
       "    .dataframe thead th {\n",
       "        text-align: right;\n",
       "    }\n",
       "</style>\n",
       "<table border=\"1\" class=\"dataframe\">\n",
       "  <thead>\n",
       "    <tr style=\"text-align: right;\">\n",
       "      <th></th>\n",
       "      <th>valor</th>\n",
       "      <th>area</th>\n",
       "      <th>quartos</th>\n",
       "      <th>banheiros</th>\n",
       "      <th>garagem</th>\n",
       "      <th>salao_de_festas</th>\n",
       "      <th>aceita_animais</th>\n",
       "      <th>ar_condicionado</th>\n",
       "      <th>condominio_fechado</th>\n",
       "      <th>churrasqueira</th>\n",
       "      <th>academia</th>\n",
       "      <th>portao_eletronico</th>\n",
       "      <th>piscina</th>\n",
       "    </tr>\n",
       "  </thead>\n",
       "  <tbody>\n",
       "    <tr>\n",
       "      <th>count</th>\n",
       "      <td>2.536000e+03</td>\n",
       "      <td>2536.00</td>\n",
       "      <td>2536.00</td>\n",
       "      <td>2536.00</td>\n",
       "      <td>2536.00</td>\n",
       "      <td>2536.0</td>\n",
       "      <td>2536.00</td>\n",
       "      <td>2536.00</td>\n",
       "      <td>2536.00</td>\n",
       "      <td>2536.00</td>\n",
       "      <td>2536.00</td>\n",
       "      <td>2536.00</td>\n",
       "      <td>2536.00</td>\n",
       "    </tr>\n",
       "    <tr>\n",
       "      <th>mean</th>\n",
       "      <td>1.366445e+06</td>\n",
       "      <td>110.75</td>\n",
       "      <td>2.59</td>\n",
       "      <td>2.47</td>\n",
       "      <td>1.28</td>\n",
       "      <td>0.1</td>\n",
       "      <td>0.46</td>\n",
       "      <td>0.31</td>\n",
       "      <td>0.51</td>\n",
       "      <td>0.39</td>\n",
       "      <td>0.26</td>\n",
       "      <td>0.09</td>\n",
       "      <td>0.43</td>\n",
       "    </tr>\n",
       "    <tr>\n",
       "      <th>std</th>\n",
       "      <td>4.288913e+06</td>\n",
       "      <td>68.48</td>\n",
       "      <td>0.83</td>\n",
       "      <td>1.11</td>\n",
       "      <td>0.99</td>\n",
       "      <td>0.3</td>\n",
       "      <td>0.50</td>\n",
       "      <td>0.46</td>\n",
       "      <td>0.50</td>\n",
       "      <td>0.49</td>\n",
       "      <td>0.44</td>\n",
       "      <td>0.29</td>\n",
       "      <td>0.50</td>\n",
       "    </tr>\n",
       "    <tr>\n",
       "      <th>min</th>\n",
       "      <td>6.000000e+02</td>\n",
       "      <td>10.00</td>\n",
       "      <td>1.00</td>\n",
       "      <td>1.00</td>\n",
       "      <td>0.00</td>\n",
       "      <td>0.0</td>\n",
       "      <td>0.00</td>\n",
       "      <td>0.00</td>\n",
       "      <td>0.00</td>\n",
       "      <td>0.00</td>\n",
       "      <td>0.00</td>\n",
       "      <td>0.00</td>\n",
       "      <td>0.00</td>\n",
       "    </tr>\n",
       "    <tr>\n",
       "      <th>25%</th>\n",
       "      <td>4.600000e+05</td>\n",
       "      <td>70.00</td>\n",
       "      <td>2.00</td>\n",
       "      <td>2.00</td>\n",
       "      <td>1.00</td>\n",
       "      <td>0.0</td>\n",
       "      <td>0.00</td>\n",
       "      <td>0.00</td>\n",
       "      <td>0.00</td>\n",
       "      <td>0.00</td>\n",
       "      <td>0.00</td>\n",
       "      <td>0.00</td>\n",
       "      <td>0.00</td>\n",
       "    </tr>\n",
       "    <tr>\n",
       "      <th>50%</th>\n",
       "      <td>8.300000e+05</td>\n",
       "      <td>90.00</td>\n",
       "      <td>3.00</td>\n",
       "      <td>2.00</td>\n",
       "      <td>1.00</td>\n",
       "      <td>0.0</td>\n",
       "      <td>0.00</td>\n",
       "      <td>0.00</td>\n",
       "      <td>1.00</td>\n",
       "      <td>0.00</td>\n",
       "      <td>0.00</td>\n",
       "      <td>0.00</td>\n",
       "      <td>0.00</td>\n",
       "    </tr>\n",
       "    <tr>\n",
       "      <th>75%</th>\n",
       "      <td>1.472250e+06</td>\n",
       "      <td>128.00</td>\n",
       "      <td>3.00</td>\n",
       "      <td>3.00</td>\n",
       "      <td>2.00</td>\n",
       "      <td>0.0</td>\n",
       "      <td>1.00</td>\n",
       "      <td>1.00</td>\n",
       "      <td>1.00</td>\n",
       "      <td>1.00</td>\n",
       "      <td>1.00</td>\n",
       "      <td>0.00</td>\n",
       "      <td>1.00</td>\n",
       "    </tr>\n",
       "    <tr>\n",
       "      <th>max</th>\n",
       "      <td>1.500000e+08</td>\n",
       "      <td>1006.00</td>\n",
       "      <td>6.00</td>\n",
       "      <td>8.00</td>\n",
       "      <td>11.00</td>\n",
       "      <td>1.0</td>\n",
       "      <td>1.00</td>\n",
       "      <td>1.00</td>\n",
       "      <td>1.00</td>\n",
       "      <td>1.00</td>\n",
       "      <td>1.00</td>\n",
       "      <td>1.00</td>\n",
       "      <td>1.00</td>\n",
       "    </tr>\n",
       "  </tbody>\n",
       "</table>\n",
       "</div>"
      ],
      "text/plain": [
       "              valor     area  quartos  banheiros  garagem  salao_de_festas  \\\n",
       "count  2.536000e+03  2536.00  2536.00    2536.00  2536.00           2536.0   \n",
       "mean   1.366445e+06   110.75     2.59       2.47     1.28              0.1   \n",
       "std    4.288913e+06    68.48     0.83       1.11     0.99              0.3   \n",
       "min    6.000000e+02    10.00     1.00       1.00     0.00              0.0   \n",
       "25%    4.600000e+05    70.00     2.00       2.00     1.00              0.0   \n",
       "50%    8.300000e+05    90.00     3.00       2.00     1.00              0.0   \n",
       "75%    1.472250e+06   128.00     3.00       3.00     2.00              0.0   \n",
       "max    1.500000e+08  1006.00     6.00       8.00    11.00              1.0   \n",
       "\n",
       "       aceita_animais  ar_condicionado  condominio_fechado  churrasqueira  \\\n",
       "count         2536.00          2536.00             2536.00        2536.00   \n",
       "mean             0.46             0.31                0.51           0.39   \n",
       "std              0.50             0.46                0.50           0.49   \n",
       "min              0.00             0.00                0.00           0.00   \n",
       "25%              0.00             0.00                0.00           0.00   \n",
       "50%              0.00             0.00                1.00           0.00   \n",
       "75%              1.00             1.00                1.00           1.00   \n",
       "max              1.00             1.00                1.00           1.00   \n",
       "\n",
       "       academia  portao_eletronico  piscina  \n",
       "count   2536.00            2536.00  2536.00  \n",
       "mean       0.26               0.09     0.43  \n",
       "std        0.44               0.29     0.50  \n",
       "min        0.00               0.00     0.00  \n",
       "25%        0.00               0.00     0.00  \n",
       "50%        0.00               0.00     0.00  \n",
       "75%        1.00               0.00     1.00  \n",
       "max        1.00               1.00     1.00  "
      ]
     },
     "execution_count": 21,
     "metadata": {},
     "output_type": "execute_result"
    }
   ],
   "source": [
    "round(df.describe(), 2)"
   ]
  },
  {
   "cell_type": "markdown",
   "metadata": {},
   "source": [
    "* É possível verificar que o menor valor para o apartamento é de 600 reais. Isso sugere que possa ser um imóvel de aluguel.\n",
    "* O maior valor é 150 milhões, o que supera os valores de um apartamento, tornando-se uma mansão.\n",
    "* 10 metros quadrados é a menor área cujo valor também é estranho.\n",
    "* 1006 metros quadrados é a maior área, valor que está fora dos padrões para um apartamento.\n",
    "* Verificar qual apartamento tem 11 garagens, 8 banheiros."
   ]
  },
  {
   "cell_type": "code",
   "execution_count": 37,
   "metadata": {},
   "outputs": [],
   "source": [
    "column = df['valor']\n",
    "q3 = column.quantile(0.75)\n",
    "q1 = column.quantile(0.25)\n",
    "\n",
    "iqr = q3 - q1\n",
    "\n",
    "lim_sup = q3 + (1.5 * iqr)\n",
    "lim_inf = q1 - (1.5 * iqr)"
   ]
  },
  {
   "cell_type": "code",
   "execution_count": 44,
   "metadata": {},
   "outputs": [],
   "source": [
    "df = df[df['valor'] <= lim_sup]\n",
    "\n",
    "df = df[df['valor'] >= 150000]"
   ]
  },
  {
   "cell_type": "code",
   "execution_count": 46,
   "metadata": {},
   "outputs": [
    {
     "data": {
      "image/png": "[encoded data removed]",
      "text/plain": [
       "<Figure size 432x288 with 1 Axes>"
      ]
     },
     "metadata": {
      "needs_background": "light"
     },
     "output_type": "display_data"
    }
   ],
   "source": [
    "sns.boxplot(data=df, y = 'valor');"
   ]
  },
  {
   "cell_type": "code",
   "execution_count": 54,
   "metadata": {},
   "outputs": [],
   "source": [
    "column = df['area']\n",
    "q3 = column.quantile(0.75)\n",
    "q1 = column.quantile(0.25)\n",
    "\n",
    "iqr = q3 - q1\n",
    "\n",
    "lim_sup = q3 + (1.5 * iqr)\n",
    "lim_inf = q1 - (1.5 * iqr)"
   ]
  },
  {
   "cell_type": "code",
   "execution_count": 57,
   "metadata": {},
   "outputs": [],
   "source": [
    "df = df[df['area'] <= lim_sup]"
   ]
  },
  {
   "cell_type": "code",
   "execution_count": 58,
   "metadata": {},
   "outputs": [
    {
     "data": {
      "image/png": "[encoded data removed]",
      "text/plain": [
       "<Figure size 432x288 with 1 Axes>"
      ]
     },
     "metadata": {
      "needs_background": "light"
     },
     "output_type": "display_data"
    }
   ],
   "source": [
    "sns.boxplot(data=df, y = 'area');"
   ]
  },
  {
   "cell_type": "code",
   "execution_count": 61,
   "metadata": {},
   "outputs": [
    {
     "data": {
      "image/png": "[encoded data removed]",
      "text/plain": [
       "<Figure size 432x288 with 1 Axes>"
      ]
     },
     "metadata": {
      "needs_background": "light"
     },
     "output_type": "display_data"
    }
   ],
   "source": [
    "sns.scatterplot(data=df,y='valor',x='area');"
   ]
  },
  {
   "cell_type": "code",
   "execution_count": 63,
   "metadata": {},
   "outputs": [],
   "source": [
    "df = df[df['area']>=25]"
   ]
  },
  {
   "cell_type": "code",
   "execution_count": 64,
   "metadata": {},
   "outputs": [
    {
     "data": {
      "image/png": "[encoded data removed]",
      "text/plain": [
       "<Figure size 432x288 with 1 Axes>"
      ]
     },
     "metadata": {
      "needs_background": "light"
     },
     "output_type": "display_data"
    }
   ],
   "source": [
    "sns.scatterplot(data=df,y='valor',x='area');"
   ]
  },
  {
   "cell_type": "code",
   "execution_count": 66,
   "metadata": {},
   "outputs": [],
   "source": [
    "variables = df.drop(columns='valor')\n",
    "target = df['valor']"
   ]
  },
  {
   "cell_type": "code",
   "execution_count": 74,
   "metadata": {},
   "outputs": [
    {
     "data": {
      "image/png": "[encoded data removed]",
      "text/plain": [
       "<Figure size 720x432 with 1 Axes>"
      ]
     },
     "metadata": {
      "needs_background": "light"
     },
     "output_type": "display_data"
    }
   ],
   "source": [
    "variables.corrwith(target).sort_values().plot(kind='bar', figsize = (10,6))\n",
    "plt.title('Correlation of features with target')\n",
    "plt.ylabel('Correlation');"
   ]
  },
  {
   "cell_type": "code",
   "execution_count": 75,
   "metadata": {},
   "outputs": [],
   "source": [
    "df = df.drop(columns=['portao_eletronico'])"
   ]
  },
  {
   "cell_type": "markdown",
   "metadata": {},
   "source": [
    "## Modelagem"
   ]
  },
  {
   "cell_type": "code",
   "execution_count": 79,
   "metadata": {},
   "outputs": [],
   "source": [
    "from sklearn.model_selection import train_test_split\n",
    "\n",
    "X = df.drop(columns=['valor','endereco'])\n",
    "y = df['valor']\n",
    "\n",
    "X_train, X_test, y_train, y_test = train_test_split(X, y, test_size=0.25, random_state=42)"
   ]
  },
  {
   "cell_type": "code",
   "execution_count": 80,
   "metadata": {},
   "outputs": [],
   "source": [
    "from sklearn.linear_model import LinearRegression\n",
    "\n",
    "lr = LinearRegression()\n",
    "\n",
    "model = lr.fit(X_train, y_train)"
   ]
  },
  {
   "cell_type": "code",
   "execution_count": 84,
   "metadata": {},
   "outputs": [],
   "source": [
    "prediction = model.predict(X_test)"
   ]
  },
  {
   "cell_type": "code",
   "execution_count": 85,
   "metadata": {},
   "outputs": [
    {
     "name": "stdout",
     "output_type": "stream",
     "text": [
      "RMSE: 406236.6833528825\n",
      "MAE: 542.9934235434009\n",
      "R2: 0.7048949214657272\n"
     ]
    }
   ],
   "source": [
    "from sklearn import metrics\n",
    "\n",
    "print('RMSE:', np.sqrt(metrics.mean_squared_error(y_test, prediction)))\n",
    "print('MAE:', np.sqrt(metrics.mean_absolute_error(y_test, prediction)))\n",
    "print('R2:', np.sqrt(metrics.r2_score(y_test, prediction)))"
   ]
  },
  {
   "cell_type": "code",
   "execution_count": null,
   "metadata": {},
   "outputs": [],
   "source": []
  }
 ],
 "metadata": {
  "interpreter": {
   "hash": "b3ba2566441a7c06988d0923437866b63cedc61552a5af99d1f4fb67d367b25f"
  },
  "kernelspec": {
   "display_name": "Python 3.8.8 64-bit ('base': conda)",
   "language": "python",
   "name": "python3"
  },
  "language_info": {
   "codemirror_mode": {
    "name": "ipython",
    "version": 3
   },
   "file_extension": ".py",
   "mimetype": "text/x-python",
   "name": "python",
   "nbconvert_exporter": "python",
   "pygments_lexer": "ipython3",
   "version": "3.8.8"
  },
  "orig_nbformat": 4
 },
 "nbformat": 4,
 "nbformat_minor": 2
}
